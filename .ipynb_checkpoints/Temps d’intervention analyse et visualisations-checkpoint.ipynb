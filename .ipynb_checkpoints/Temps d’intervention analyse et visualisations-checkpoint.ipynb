{
 "cells": [
  {
   "cell_type": "code",
   "execution_count": 1,
   "metadata": {},
   "outputs": [],
   "source": [
    "%matplotlib inline\n",
    "\n",
    "import matplotlib.pyplot as plt\n",
    "import seaborn as sns\n",
    "import pandas as pd\n",
    "pd.set_option('display.max_columns', 25)\n",
    "import pickle\n",
    "with open('data_with_coord_29_04_21', \"rb\") as fh:\n",
    "    df = pickle.load(fh)\n",
    "# On retire les données dont l'incident est à plus de 150 km de Londre\n",
    "df = df[df.dist_euclidian<150000]"
   ]
  },
  {
   "cell_type": "code",
   "execution_count": 2,
   "metadata": {},
   "outputs": [],
   "source": [
    "def format_ax(axs):\n",
    "    from matplotlib import rc\n",
    "    rc('font',**{'family':'sans-serif','sans-serif':['Helvetica']})\n",
    "    axs.tick_params(axis='both', which='major', labelsize=15)\n",
    "    axs.spines['right'].set_visible(False)\n",
    "    axs.spines['top'].set_visible(False)\n",
    "#format_ax(ax)"
   ]
  },
  {
   "cell_type": "markdown",
   "metadata": {},
   "source": [
    "Info pour voir combien de lignes et de colonnes"
   ]
  },
  {
   "cell_type": "code",
   "execution_count": 3,
   "metadata": {},
   "outputs": [
    {
     "name": "stdout",
     "output_type": "stream",
     "text": [
      "<class 'pandas.core.frame.DataFrame'>\n",
      "Int64Index: 1797003 entries, 0 to 1797003\n",
      "Data columns (total 25 columns):\n",
      " #   Column                    Dtype  \n",
      "---  ------                    -----  \n",
      " 0   IncidentNumber            object \n",
      " 1   TimeMobilised             object \n",
      " 2   TimeMobile                object \n",
      " 3   TimeArrived               object \n",
      " 4   AttendanceTimeSeconds     float64\n",
      " 5   DeployedFromStation_Name  object \n",
      " 6   DelayCodeID               float64\n",
      " 7   DelayCode_Description     object \n",
      " 8   IncidentGroup             object \n",
      " 9   DateOfCall                object \n",
      " 10  CalYear                   int64  \n",
      " 11  TimeOfCall                object \n",
      " 12  HourOfCall                int64  \n",
      " 13  Easting_rounded           int64  \n",
      " 14  Northing_rounded          int64  \n",
      " 15  color                     object \n",
      " 16  d_long                    float64\n",
      " 17  d_lat                     float64\n",
      " 18  x_utm                     float64\n",
      " 19  y_utm                     float64\n",
      " 20  o_long                    float64\n",
      " 21  o_lat                     float64\n",
      " 22  o_x_utm                   float64\n",
      " 23  o_y_utm                   float64\n",
      " 24  dist_euclidian            float64\n",
      "dtypes: float64(11), int64(4), object(10)\n",
      "memory usage: 356.5+ MB\n"
     ]
    }
   ],
   "source": [
    "df.info()"
   ]
  },
  {
   "cell_type": "code",
   "execution_count": 4,
   "metadata": {},
   "outputs": [
    {
     "data": {
      "text/plain": [
       "IncidentNumber              0\n",
       "TimeMobilised               0\n",
       "TimeMobile                  0\n",
       "TimeArrived                 0\n",
       "AttendanceTimeSeconds       0\n",
       "DeployedFromStation_Name    0\n",
       "DelayCodeID                 0\n",
       "DelayCode_Description       0\n",
       "IncidentGroup               0\n",
       "DateOfCall                  0\n",
       "CalYear                     0\n",
       "TimeOfCall                  0\n",
       "HourOfCall                  0\n",
       "Easting_rounded             0\n",
       "Northing_rounded            0\n",
       "color                       0\n",
       "d_long                      0\n",
       "d_lat                       0\n",
       "x_utm                       0\n",
       "y_utm                       0\n",
       "o_long                      0\n",
       "o_lat                       0\n",
       "o_x_utm                     0\n",
       "o_y_utm                     0\n",
       "dist_euclidian              0\n",
       "dtype: int64"
      ]
     },
     "execution_count": 4,
     "metadata": {},
     "output_type": "execute_result"
    }
   ],
   "source": [
    "df.isnull().sum()"
   ]
  },
  {
   "cell_type": "markdown",
   "metadata": {},
   "source": [
    "Calcul de la distance entre chaque caserne et le centre de Londre et répartition en  4 quartiles pour faciliter leur études comme variable explicative"
   ]
  },
  {
   "cell_type": "code",
   "execution_count": 5,
   "metadata": {},
   "outputs": [
    {
     "data": {
      "text/html": [
       "<div>\n",
       "<style scoped>\n",
       "    .dataframe tbody tr th:only-of-type {\n",
       "        vertical-align: middle;\n",
       "    }\n",
       "\n",
       "    .dataframe tbody tr th {\n",
       "        vertical-align: top;\n",
       "    }\n",
       "\n",
       "    .dataframe thead th {\n",
       "        text-align: right;\n",
       "    }\n",
       "</style>\n",
       "<table border=\"1\" class=\"dataframe\">\n",
       "  <thead>\n",
       "    <tr style=\"text-align: right;\">\n",
       "      <th></th>\n",
       "      <th>LAT</th>\n",
       "      <th>LON</th>\n",
       "      <th>x_utm</th>\n",
       "      <th>y_utm</th>\n",
       "    </tr>\n",
       "  </thead>\n",
       "  <tbody>\n",
       "    <tr>\n",
       "      <th>0</th>\n",
       "      <td>51.509093</td>\n",
       "      <td>-0.094151</td>\n",
       "      <td>-10480.841378</td>\n",
       "      <td>6.711845e+06</td>\n",
       "    </tr>\n",
       "  </tbody>\n",
       "</table>\n",
       "</div>"
      ],
      "text/plain": [
       "         LAT       LON         x_utm         y_utm\n",
       "0  51.509093 -0.094151 -10480.841378  6.711845e+06"
      ]
     },
     "execution_count": 5,
     "metadata": {},
     "output_type": "execute_result"
    }
   ],
   "source": [
    "import numpy as np\n",
    "def wgs84_to_web_mercator(df, lon=\"LON\", lat=\"LAT\"):\n",
    "    '''\n",
    "    from https://stackoverflow.com/questions/57178783/how-to-plot-latitude-and-longitude-in-bokeh\n",
    "    Cette fonction calcule les coordonnées\n",
    "    UTM (mercator) à partir de la longitude et de la latitude\n",
    "    df : le dataframe où se trouvent les données à convertir\n",
    "    lon : nom de la colonne pour les longitudes\n",
    "    lat : nom de la colonne pour les latitudes\n",
    "    return : retourne le dataframe en y ajoutant les colonnes\n",
    "    pour les coordonnées x_utm et y_utm\n",
    "    '''\n",
    "    k = 6378137 # rayon de la Terre en mètres\n",
    "    df.loc[:, \"x_utm\"] = df.loc[:, lon] * (k * np.pi/180.0)\n",
    "    df.loc[:, \"y_utm\"] = np.log(np.tan((90 + df.loc[:, lat]) * np.pi/360.0)) * k\n",
    "    return df\n",
    "london = pd.DataFrame([[51.509093, -0.094151]], columns=['LAT','LON'])\n",
    "london = wgs84_to_web_mercator(london)\n",
    "london\n",
    "\n"
   ]
  },
  {
   "cell_type": "code",
   "execution_count": 6,
   "metadata": {},
   "outputs": [],
   "source": [
    "# On utilise les longitudes et latitudes des stations moins les long et lat du centre de Londres\n",
    "df['dist_center'] = np.sqrt((df.x_utm - -10480.841378)**2 + (df.y_utm - 6.711845e+06)**2)"
   ]
  },
  {
   "cell_type": "code",
   "execution_count": 7,
   "metadata": {},
   "outputs": [],
   "source": [
    "df['dist_stacen_classe']=pd.qcut(x=df.dist_center, q=6, labels=[1,2,3,4,5,6]).astype('float')\n",
    "df['dist_stacen_bin']=pd.qcut(x=df.dist_center, q=6)"
   ]
  },
  {
   "cell_type": "code",
   "execution_count": 8,
   "metadata": {},
   "outputs": [
    {
     "data": {
      "text/html": [
       "<div>\n",
       "<style scoped>\n",
       "    .dataframe tbody tr th:only-of-type {\n",
       "        vertical-align: middle;\n",
       "    }\n",
       "\n",
       "    .dataframe tbody tr th {\n",
       "        vertical-align: top;\n",
       "    }\n",
       "\n",
       "    .dataframe thead th {\n",
       "        text-align: right;\n",
       "    }\n",
       "</style>\n",
       "<table border=\"1\" class=\"dataframe\">\n",
       "  <thead>\n",
       "    <tr style=\"text-align: right;\">\n",
       "      <th></th>\n",
       "      <th>IncidentNumber</th>\n",
       "      <th>TimeMobilised</th>\n",
       "      <th>TimeMobile</th>\n",
       "      <th>TimeArrived</th>\n",
       "      <th>AttendanceTimeSeconds</th>\n",
       "      <th>DeployedFromStation_Name</th>\n",
       "      <th>DelayCodeID</th>\n",
       "      <th>DelayCode_Description</th>\n",
       "      <th>IncidentGroup</th>\n",
       "      <th>DateOfCall</th>\n",
       "      <th>CalYear</th>\n",
       "      <th>TimeOfCall</th>\n",
       "      <th>...</th>\n",
       "      <th>d_long</th>\n",
       "      <th>d_lat</th>\n",
       "      <th>x_utm</th>\n",
       "      <th>y_utm</th>\n",
       "      <th>o_long</th>\n",
       "      <th>o_lat</th>\n",
       "      <th>o_x_utm</th>\n",
       "      <th>o_y_utm</th>\n",
       "      <th>dist_euclidian</th>\n",
       "      <th>dist_center</th>\n",
       "      <th>dist_stacen_classe</th>\n",
       "      <th>dist_stacen_bin</th>\n",
       "    </tr>\n",
       "  </thead>\n",
       "  <tbody>\n",
       "    <tr>\n",
       "      <th>0</th>\n",
       "      <td>235138081</td>\n",
       "      <td>01/01/2009 00:02:27</td>\n",
       "      <td>01/01/2009 00:06:40</td>\n",
       "      <td>01/01/2009 00:08:09</td>\n",
       "      <td>342.0</td>\n",
       "      <td>Clapham</td>\n",
       "      <td>0.0</td>\n",
       "      <td>RAS</td>\n",
       "      <td>Special Service</td>\n",
       "      <td>01-janv-09</td>\n",
       "      <td>2009</td>\n",
       "      <td>00:00:37</td>\n",
       "      <td>...</td>\n",
       "      <td>-0.148916</td>\n",
       "      <td>51.475992</td>\n",
       "      <td>-16577.246612</td>\n",
       "      <td>6.705927e+06</td>\n",
       "      <td>-0.141051</td>\n",
       "      <td>51.465400</td>\n",
       "      <td>-15701.725496</td>\n",
       "      <td>6.704034e+06</td>\n",
       "      <td>2085.533280</td>\n",
       "      <td>8496.378017</td>\n",
       "      <td>2.0</td>\n",
       "      <td>(7154.937, 11462.041]</td>\n",
       "    </tr>\n",
       "    <tr>\n",
       "      <th>1</th>\n",
       "      <td>2091</td>\n",
       "      <td>01/01/2009 00:04:09</td>\n",
       "      <td>01/01/2009 00:06:40</td>\n",
       "      <td>01/01/2009 00:09:17</td>\n",
       "      <td>308.0</td>\n",
       "      <td>Edmonton</td>\n",
       "      <td>0.0</td>\n",
       "      <td>RAS</td>\n",
       "      <td>Fire</td>\n",
       "      <td>01-janv-09</td>\n",
       "      <td>2009</td>\n",
       "      <td>00:03:00</td>\n",
       "      <td>...</td>\n",
       "      <td>-0.068836</td>\n",
       "      <td>51.632970</td>\n",
       "      <td>-7662.804053</td>\n",
       "      <td>6.734032e+06</td>\n",
       "      <td>-0.069120</td>\n",
       "      <td>51.627217</td>\n",
       "      <td>-7694.403204</td>\n",
       "      <td>6.733000e+06</td>\n",
       "      <td>1032.257024</td>\n",
       "      <td>22365.168354</td>\n",
       "      <td>5.0</td>\n",
       "      <td>(21111.379, 28217.718]</td>\n",
       "    </tr>\n",
       "    <tr>\n",
       "      <th>2</th>\n",
       "      <td>3091</td>\n",
       "      <td>01/01/2009 00:04:57</td>\n",
       "      <td>01/01/2009 00:06:45</td>\n",
       "      <td>01/01/2009 00:08:27</td>\n",
       "      <td>210.0</td>\n",
       "      <td>Hillingdon</td>\n",
       "      <td>0.0</td>\n",
       "      <td>RAS</td>\n",
       "      <td>Fire</td>\n",
       "      <td>01-janv-09</td>\n",
       "      <td>2009</td>\n",
       "      <td>00:04:27</td>\n",
       "      <td>...</td>\n",
       "      <td>-0.447902</td>\n",
       "      <td>51.534284</td>\n",
       "      <td>-49860.215886</td>\n",
       "      <td>6.716352e+06</td>\n",
       "      <td>-0.451701</td>\n",
       "      <td>51.531257</td>\n",
       "      <td>-50283.125311</td>\n",
       "      <td>6.715810e+06</td>\n",
       "      <td>687.205480</td>\n",
       "      <td>39636.463005</td>\n",
       "      <td>6.0</td>\n",
       "      <td>(28217.718, 133521.334]</td>\n",
       "    </tr>\n",
       "    <tr>\n",
       "      <th>3</th>\n",
       "      <td>5091</td>\n",
       "      <td>01/01/2009 00:06:04</td>\n",
       "      <td>01/01/2009 00:08:26</td>\n",
       "      <td>01/01/2009 00:10:14</td>\n",
       "      <td>250.0</td>\n",
       "      <td>Holloway</td>\n",
       "      <td>0.0</td>\n",
       "      <td>RAS</td>\n",
       "      <td>Fire</td>\n",
       "      <td>01-janv-09</td>\n",
       "      <td>2009</td>\n",
       "      <td>00:05:39</td>\n",
       "      <td>...</td>\n",
       "      <td>-0.111220</td>\n",
       "      <td>51.551829</td>\n",
       "      <td>-12380.899219</td>\n",
       "      <td>6.719493e+06</td>\n",
       "      <td>-0.116461</td>\n",
       "      <td>51.561766</td>\n",
       "      <td>-12964.379217</td>\n",
       "      <td>6.721272e+06</td>\n",
       "      <td>1872.413548</td>\n",
       "      <td>7880.037236</td>\n",
       "      <td>2.0</td>\n",
       "      <td>(7154.937, 11462.041]</td>\n",
       "    </tr>\n",
       "    <tr>\n",
       "      <th>4</th>\n",
       "      <td>5091</td>\n",
       "      <td>01/01/2009 00:06:04</td>\n",
       "      <td>01/01/2009 00:07:58</td>\n",
       "      <td>01/01/2009 00:09:57</td>\n",
       "      <td>233.0</td>\n",
       "      <td>Holloway</td>\n",
       "      <td>0.0</td>\n",
       "      <td>RAS</td>\n",
       "      <td>Fire</td>\n",
       "      <td>01-janv-09</td>\n",
       "      <td>2009</td>\n",
       "      <td>00:05:39</td>\n",
       "      <td>...</td>\n",
       "      <td>-0.111220</td>\n",
       "      <td>51.551829</td>\n",
       "      <td>-12380.899219</td>\n",
       "      <td>6.719493e+06</td>\n",
       "      <td>-0.116461</td>\n",
       "      <td>51.561766</td>\n",
       "      <td>-12964.379217</td>\n",
       "      <td>6.721272e+06</td>\n",
       "      <td>1872.413548</td>\n",
       "      <td>7880.037236</td>\n",
       "      <td>2.0</td>\n",
       "      <td>(7154.937, 11462.041]</td>\n",
       "    </tr>\n",
       "  </tbody>\n",
       "</table>\n",
       "<p>5 rows × 28 columns</p>\n",
       "</div>"
      ],
      "text/plain": [
       "  IncidentNumber        TimeMobilised           TimeMobile  \\\n",
       "0      235138081  01/01/2009 00:02:27  01/01/2009 00:06:40   \n",
       "1           2091  01/01/2009 00:04:09  01/01/2009 00:06:40   \n",
       "2           3091  01/01/2009 00:04:57  01/01/2009 00:06:45   \n",
       "3           5091  01/01/2009 00:06:04  01/01/2009 00:08:26   \n",
       "4           5091  01/01/2009 00:06:04  01/01/2009 00:07:58   \n",
       "\n",
       "           TimeArrived  AttendanceTimeSeconds DeployedFromStation_Name  \\\n",
       "0  01/01/2009 00:08:09                  342.0                  Clapham   \n",
       "1  01/01/2009 00:09:17                  308.0                 Edmonton   \n",
       "2  01/01/2009 00:08:27                  210.0               Hillingdon   \n",
       "3  01/01/2009 00:10:14                  250.0                 Holloway   \n",
       "4  01/01/2009 00:09:57                  233.0                 Holloway   \n",
       "\n",
       "   DelayCodeID DelayCode_Description    IncidentGroup  DateOfCall  CalYear  \\\n",
       "0          0.0                   RAS  Special Service  01-janv-09     2009   \n",
       "1          0.0                   RAS             Fire  01-janv-09     2009   \n",
       "2          0.0                   RAS             Fire  01-janv-09     2009   \n",
       "3          0.0                   RAS             Fire  01-janv-09     2009   \n",
       "4          0.0                   RAS             Fire  01-janv-09     2009   \n",
       "\n",
       "  TimeOfCall  ...    d_long      d_lat         x_utm         y_utm    o_long  \\\n",
       "0   00:00:37  ... -0.148916  51.475992 -16577.246612  6.705927e+06 -0.141051   \n",
       "1   00:03:00  ... -0.068836  51.632970  -7662.804053  6.734032e+06 -0.069120   \n",
       "2   00:04:27  ... -0.447902  51.534284 -49860.215886  6.716352e+06 -0.451701   \n",
       "3   00:05:39  ... -0.111220  51.551829 -12380.899219  6.719493e+06 -0.116461   \n",
       "4   00:05:39  ... -0.111220  51.551829 -12380.899219  6.719493e+06 -0.116461   \n",
       "\n",
       "       o_lat       o_x_utm       o_y_utm  dist_euclidian   dist_center  \\\n",
       "0  51.465400 -15701.725496  6.704034e+06     2085.533280   8496.378017   \n",
       "1  51.627217  -7694.403204  6.733000e+06     1032.257024  22365.168354   \n",
       "2  51.531257 -50283.125311  6.715810e+06      687.205480  39636.463005   \n",
       "3  51.561766 -12964.379217  6.721272e+06     1872.413548   7880.037236   \n",
       "4  51.561766 -12964.379217  6.721272e+06     1872.413548   7880.037236   \n",
       "\n",
       "   dist_stacen_classe          dist_stacen_bin  \n",
       "0                 2.0    (7154.937, 11462.041]  \n",
       "1                 5.0   (21111.379, 28217.718]  \n",
       "2                 6.0  (28217.718, 133521.334]  \n",
       "3                 2.0    (7154.937, 11462.041]  \n",
       "4                 2.0    (7154.937, 11462.041]  \n",
       "\n",
       "[5 rows x 28 columns]"
      ]
     },
     "execution_count": 8,
     "metadata": {},
     "output_type": "execute_result"
    }
   ],
   "source": [
    "df.head()"
   ]
  },
  {
   "cell_type": "markdown",
   "metadata": {},
   "source": [
    "On affiche ici la distribution des valeurs pour remplir le tableau demandé"
   ]
  },
  {
   "cell_type": "code",
   "execution_count": 9,
   "metadata": {},
   "outputs": [
    {
     "data": {
      "text/html": [
       "<div>\n",
       "<style scoped>\n",
       "    .dataframe tbody tr th:only-of-type {\n",
       "        vertical-align: middle;\n",
       "    }\n",
       "\n",
       "    .dataframe tbody tr th {\n",
       "        vertical-align: top;\n",
       "    }\n",
       "\n",
       "    .dataframe thead th {\n",
       "        text-align: right;\n",
       "    }\n",
       "</style>\n",
       "<table border=\"1\" class=\"dataframe\">\n",
       "  <thead>\n",
       "    <tr style=\"text-align: right;\">\n",
       "      <th></th>\n",
       "      <th>AttendanceTimeSeconds</th>\n",
       "      <th>DelayCodeID</th>\n",
       "      <th>CalYear</th>\n",
       "      <th>HourOfCall</th>\n",
       "      <th>Easting_rounded</th>\n",
       "      <th>Northing_rounded</th>\n",
       "      <th>d_long</th>\n",
       "      <th>d_lat</th>\n",
       "      <th>x_utm</th>\n",
       "      <th>y_utm</th>\n",
       "      <th>o_long</th>\n",
       "      <th>o_lat</th>\n",
       "      <th>o_x_utm</th>\n",
       "      <th>o_y_utm</th>\n",
       "      <th>dist_euclidian</th>\n",
       "      <th>dist_center</th>\n",
       "      <th>dist_stacen_classe</th>\n",
       "    </tr>\n",
       "  </thead>\n",
       "  <tbody>\n",
       "    <tr>\n",
       "      <th>count</th>\n",
       "      <td>1.797003e+06</td>\n",
       "      <td>1.797003e+06</td>\n",
       "      <td>1.797003e+06</td>\n",
       "      <td>1.797003e+06</td>\n",
       "      <td>1.797003e+06</td>\n",
       "      <td>1.797003e+06</td>\n",
       "      <td>1.797003e+06</td>\n",
       "      <td>1.797003e+06</td>\n",
       "      <td>1.797003e+06</td>\n",
       "      <td>1.797003e+06</td>\n",
       "      <td>1.797003e+06</td>\n",
       "      <td>1.797003e+06</td>\n",
       "      <td>1.797003e+06</td>\n",
       "      <td>1.797003e+06</td>\n",
       "      <td>1.797003e+06</td>\n",
       "      <td>1.797003e+06</td>\n",
       "      <td>1.797003e+06</td>\n",
       "    </tr>\n",
       "    <tr>\n",
       "      <th>mean</th>\n",
       "      <td>4.011574e+02</td>\n",
       "      <td>2.773378e+00</td>\n",
       "      <td>2.014444e+03</td>\n",
       "      <td>1.351363e+01</td>\n",
       "      <td>5.305245e+05</td>\n",
       "      <td>1.805104e+05</td>\n",
       "      <td>-1.205793e-01</td>\n",
       "      <td>5.150837e+01</td>\n",
       "      <td>-1.342283e+04</td>\n",
       "      <td>6.711725e+06</td>\n",
       "      <td>-1.204801e-01</td>\n",
       "      <td>5.150825e+01</td>\n",
       "      <td>-1.341179e+04</td>\n",
       "      <td>6.711702e+06</td>\n",
       "      <td>3.029837e+03</td>\n",
       "      <td>1.734705e+04</td>\n",
       "      <td>3.499936e+00</td>\n",
       "    </tr>\n",
       "    <tr>\n",
       "      <th>std</th>\n",
       "      <td>5.360889e+02</td>\n",
       "      <td>4.862935e+00</td>\n",
       "      <td>3.566042e+00</td>\n",
       "      <td>6.300112e+00</td>\n",
       "      <td>9.834912e+03</td>\n",
       "      <td>7.422533e+03</td>\n",
       "      <td>1.418392e-01</td>\n",
       "      <td>6.660432e-02</td>\n",
       "      <td>1.578947e+04</td>\n",
       "      <td>1.191031e+04</td>\n",
       "      <td>1.396091e-01</td>\n",
       "      <td>6.507531e-02</td>\n",
       "      <td>1.554121e+04</td>\n",
       "      <td>1.163703e+04</td>\n",
       "      <td>2.431196e+03</td>\n",
       "      <td>9.945466e+03</td>\n",
       "      <td>1.707836e+00</td>\n",
       "    </tr>\n",
       "    <tr>\n",
       "      <th>min</th>\n",
       "      <td>1.000000e+00</td>\n",
       "      <td>0.000000e+00</td>\n",
       "      <td>2.009000e+03</td>\n",
       "      <td>0.000000e+00</td>\n",
       "      <td>4.598500e+05</td>\n",
       "      <td>1.457500e+05</td>\n",
       "      <td>-1.141720e+00</td>\n",
       "      <td>5.119234e+01</td>\n",
       "      <td>-1.270957e+05</td>\n",
       "      <td>6.655387e+06</td>\n",
       "      <td>-4.586300e-01</td>\n",
       "      <td>5.131373e+01</td>\n",
       "      <td>-5.105446e+04</td>\n",
       "      <td>6.676978e+06</td>\n",
       "      <td>8.631572e+00</td>\n",
       "      <td>3.681147e+01</td>\n",
       "      <td>1.000000e+00</td>\n",
       "    </tr>\n",
       "    <tr>\n",
       "      <th>25%</th>\n",
       "      <td>2.560000e+02</td>\n",
       "      <td>0.000000e+00</td>\n",
       "      <td>2.011000e+03</td>\n",
       "      <td>9.000000e+00</td>\n",
       "      <td>5.250500e+05</td>\n",
       "      <td>1.760500e+05</td>\n",
       "      <td>-1.995797e-01</td>\n",
       "      <td>5.146907e+01</td>\n",
       "      <td>-2.221711e+04</td>\n",
       "      <td>6.704691e+06</td>\n",
       "      <td>-2.013300e-01</td>\n",
       "      <td>5.146746e+01</td>\n",
       "      <td>-2.241195e+04</td>\n",
       "      <td>6.704403e+06</td>\n",
       "      <td>1.582225e+03</td>\n",
       "      <td>9.263569e+03</td>\n",
       "      <td>2.000000e+00</td>\n",
       "    </tr>\n",
       "    <tr>\n",
       "      <th>50%</th>\n",
       "      <td>3.330000e+02</td>\n",
       "      <td>0.000000e+00</td>\n",
       "      <td>2.014000e+03</td>\n",
       "      <td>1.400000e+01</td>\n",
       "      <td>5.307500e+05</td>\n",
       "      <td>1.810500e+05</td>\n",
       "      <td>-1.168314e-01</td>\n",
       "      <td>5.151381e+01</td>\n",
       "      <td>-1.300561e+04</td>\n",
       "      <td>6.712688e+06</td>\n",
       "      <td>-1.215590e-01</td>\n",
       "      <td>5.151249e+01</td>\n",
       "      <td>-1.353189e+04</td>\n",
       "      <td>6.712453e+06</td>\n",
       "      <td>2.570357e+03</td>\n",
       "      <td>1.574287e+04</td>\n",
       "      <td>3.000000e+00</td>\n",
       "    </tr>\n",
       "    <tr>\n",
       "      <th>75%</th>\n",
       "      <td>4.350000e+02</td>\n",
       "      <td>5.000000e+00</td>\n",
       "      <td>2.018000e+03</td>\n",
       "      <td>1.900000e+01</td>\n",
       "      <td>5.362500e+05</td>\n",
       "      <td>1.853500e+05</td>\n",
       "      <td>-3.765835e-02</td>\n",
       "      <td>5.155157e+01</td>\n",
       "      <td>-4.192108e+03</td>\n",
       "      <td>6.719447e+06</td>\n",
       "      <td>-4.318400e-02</td>\n",
       "      <td>5.155296e+01</td>\n",
       "      <td>-4.807221e+03</td>\n",
       "      <td>6.719694e+06</td>\n",
       "      <td>3.872109e+03</td>\n",
       "      <td>2.447051e+04</td>\n",
       "      <td>5.000000e+00</td>\n",
       "    </tr>\n",
       "    <tr>\n",
       "      <th>max</th>\n",
       "      <td>1.194990e+05</td>\n",
       "      <td>1.800000e+01</td>\n",
       "      <td>2.021000e+03</td>\n",
       "      <td>2.300000e+01</td>\n",
       "      <td>5.948500e+05</td>\n",
       "      <td>2.345500e+05</td>\n",
       "      <td>8.099769e-01</td>\n",
       "      <td>5.200504e+01</td>\n",
       "      <td>9.016621e+04</td>\n",
       "      <td>6.801036e+06</td>\n",
       "      <td>2.329000e-01</td>\n",
       "      <td>5.166028e+01</td>\n",
       "      <td>2.592631e+04</td>\n",
       "      <td>6.738931e+06</td>\n",
       "      <td>1.093304e+05</td>\n",
       "      <td>1.335213e+05</td>\n",
       "      <td>6.000000e+00</td>\n",
       "    </tr>\n",
       "  </tbody>\n",
       "</table>\n",
       "</div>"
      ],
      "text/plain": [
       "       AttendanceTimeSeconds   DelayCodeID       CalYear    HourOfCall  \\\n",
       "count           1.797003e+06  1.797003e+06  1.797003e+06  1.797003e+06   \n",
       "mean            4.011574e+02  2.773378e+00  2.014444e+03  1.351363e+01   \n",
       "std             5.360889e+02  4.862935e+00  3.566042e+00  6.300112e+00   \n",
       "min             1.000000e+00  0.000000e+00  2.009000e+03  0.000000e+00   \n",
       "25%             2.560000e+02  0.000000e+00  2.011000e+03  9.000000e+00   \n",
       "50%             3.330000e+02  0.000000e+00  2.014000e+03  1.400000e+01   \n",
       "75%             4.350000e+02  5.000000e+00  2.018000e+03  1.900000e+01   \n",
       "max             1.194990e+05  1.800000e+01  2.021000e+03  2.300000e+01   \n",
       "\n",
       "       Easting_rounded  Northing_rounded        d_long         d_lat  \\\n",
       "count     1.797003e+06      1.797003e+06  1.797003e+06  1.797003e+06   \n",
       "mean      5.305245e+05      1.805104e+05 -1.205793e-01  5.150837e+01   \n",
       "std       9.834912e+03      7.422533e+03  1.418392e-01  6.660432e-02   \n",
       "min       4.598500e+05      1.457500e+05 -1.141720e+00  5.119234e+01   \n",
       "25%       5.250500e+05      1.760500e+05 -1.995797e-01  5.146907e+01   \n",
       "50%       5.307500e+05      1.810500e+05 -1.168314e-01  5.151381e+01   \n",
       "75%       5.362500e+05      1.853500e+05 -3.765835e-02  5.155157e+01   \n",
       "max       5.948500e+05      2.345500e+05  8.099769e-01  5.200504e+01   \n",
       "\n",
       "              x_utm         y_utm        o_long         o_lat       o_x_utm  \\\n",
       "count  1.797003e+06  1.797003e+06  1.797003e+06  1.797003e+06  1.797003e+06   \n",
       "mean  -1.342283e+04  6.711725e+06 -1.204801e-01  5.150825e+01 -1.341179e+04   \n",
       "std    1.578947e+04  1.191031e+04  1.396091e-01  6.507531e-02  1.554121e+04   \n",
       "min   -1.270957e+05  6.655387e+06 -4.586300e-01  5.131373e+01 -5.105446e+04   \n",
       "25%   -2.221711e+04  6.704691e+06 -2.013300e-01  5.146746e+01 -2.241195e+04   \n",
       "50%   -1.300561e+04  6.712688e+06 -1.215590e-01  5.151249e+01 -1.353189e+04   \n",
       "75%   -4.192108e+03  6.719447e+06 -4.318400e-02  5.155296e+01 -4.807221e+03   \n",
       "max    9.016621e+04  6.801036e+06  2.329000e-01  5.166028e+01  2.592631e+04   \n",
       "\n",
       "            o_y_utm  dist_euclidian   dist_center  dist_stacen_classe  \n",
       "count  1.797003e+06    1.797003e+06  1.797003e+06        1.797003e+06  \n",
       "mean   6.711702e+06    3.029837e+03  1.734705e+04        3.499936e+00  \n",
       "std    1.163703e+04    2.431196e+03  9.945466e+03        1.707836e+00  \n",
       "min    6.676978e+06    8.631572e+00  3.681147e+01        1.000000e+00  \n",
       "25%    6.704403e+06    1.582225e+03  9.263569e+03        2.000000e+00  \n",
       "50%    6.712453e+06    2.570357e+03  1.574287e+04        3.000000e+00  \n",
       "75%    6.719694e+06    3.872109e+03  2.447051e+04        5.000000e+00  \n",
       "max    6.738931e+06    1.093304e+05  1.335213e+05        6.000000e+00  "
      ]
     },
     "execution_count": 9,
     "metadata": {},
     "output_type": "execute_result"
    }
   ],
   "source": [
    "df.describe()"
   ]
  },
  {
   "cell_type": "markdown",
   "metadata": {},
   "source": [
    "Pour les graphs à venir on va drop les colonnes utm et dist center qui ne nous intéressent pas spécialement vu que nous avons la distance euclidienne et les classes"
   ]
  },
  {
   "cell_type": "code",
   "execution_count": 10,
   "metadata": {},
   "outputs": [],
   "source": [
    "df.drop(['dist_center','o_y_utm', 'o_x_utm','o_lat', 'o_long', 'y_utm', 'x_utm', 'd_lat', 'd_long'], axis = 1, inplace = True)"
   ]
  },
  {
   "cell_type": "code",
   "execution_count": 11,
   "metadata": {},
   "outputs": [],
   "source": [
    "df.drop(['Easting_rounded', 'Northing_rounded'], axis = 1, inplace = True)"
   ]
  },
  {
   "cell_type": "code",
   "execution_count": 12,
   "metadata": {},
   "outputs": [
    {
     "name": "stdout",
     "output_type": "stream",
     "text": [
      "<class 'pandas.core.frame.DataFrame'>\n",
      "Int64Index: 1797003 entries, 0 to 1797003\n",
      "Data columns (total 17 columns):\n",
      " #   Column                    Dtype   \n",
      "---  ------                    -----   \n",
      " 0   IncidentNumber            object  \n",
      " 1   TimeMobilised             object  \n",
      " 2   TimeMobile                object  \n",
      " 3   TimeArrived               object  \n",
      " 4   AttendanceTimeSeconds     float64 \n",
      " 5   DeployedFromStation_Name  object  \n",
      " 6   DelayCodeID               float64 \n",
      " 7   DelayCode_Description     object  \n",
      " 8   IncidentGroup             object  \n",
      " 9   DateOfCall                object  \n",
      " 10  CalYear                   int64   \n",
      " 11  TimeOfCall                object  \n",
      " 12  HourOfCall                int64   \n",
      " 13  color                     object  \n",
      " 14  dist_euclidian            float64 \n",
      " 15  dist_stacen_classe        float64 \n",
      " 16  dist_stacen_bin           category\n",
      "dtypes: category(1), float64(4), int64(2), object(10)\n",
      "memory usage: 234.8+ MB\n"
     ]
    }
   ],
   "source": [
    "#plus que 233mo restant c'est pas mal allégé hahaha\n",
    "df.info()"
   ]
  },
  {
   "cell_type": "markdown",
   "metadata": {},
   "source": [
    "étude de la corrélation entre les variables du df\n",
    "\n",
    "notre variable cible serait response time"
   ]
  },
  {
   "cell_type": "code",
   "execution_count": 13,
   "metadata": {},
   "outputs": [],
   "source": [
    "corr=df.corr(method ='pearson')"
   ]
  },
  {
   "cell_type": "code",
   "execution_count": 14,
   "metadata": {},
   "outputs": [
    {
     "data": {
      "image/png": "[encoded data removed]",
      "text/plain": [
       "<Figure size 720x576 with 2 Axes>"
      ]
     },
     "metadata": {
      "needs_background": "light"
     },
     "output_type": "display_data"
    }
   ],
   "source": [
    "import seaborn as sns\n",
    "fig, ax = plt.subplots(figsize=(10, 8))\n",
    "sns.heatmap(data=corr, annot=True, ax=ax);"
   ]
  },
  {
   "cell_type": "code",
   "execution_count": 15,
   "metadata": {},
   "outputs": [
    {
     "name": "stdout",
     "output_type": "stream",
     "text": [
      "corr. Temps-Distance : r =  0.45428290017478046 P = 0.0\n",
      "corr. Temps-Delay : r =  0.14980489634427532 P = 0.0\n"
     ]
    }
   ],
   "source": [
    "from scipy.stats import pearsonr\n",
    "t1, t2 = df.AttendanceTimeSeconds, df.dist_euclidian\n",
    "r, p = pearsonr(t1, t2)\n",
    "print('corr. Temps-Distance : r = ' ,r, 'P =', p)\n",
    "\n",
    "t1, t2 = df.AttendanceTimeSeconds, df.DelayCodeID\n",
    "r, p = pearsonr(t1, t2)\n",
    "print('corr. Temps-Delay : r = ' ,r, 'P =', p)\n"
   ]
  },
  {
   "cell_type": "markdown",
   "metadata": {},
   "source": [
    "### Nous avons donc deux corrélations d'intérêt concernant le temps de réponse:\n",
    "- la corrélation AttendanceTimeSeconds et Dist_euclidian (P<.05), qui concerne le temps temps de réponse et la distance entre la station et le lieu de l'incident. Cette corrélation est moyenne (0.2<r<0.5) et positive (r>0).\n",
    "- la corrélation AttendanceTimeSeconds et DelayCodeID (P<.05), qui concerne le temps temps de réponse et la présence ou non de caractéristiques de délai sur le trajet. Cette corrélation est faible (r<0.2) et positive (r>0).\n",
    "\n",
    "Ces deux corrélations tombent sous le sens, ces caractéristiques pourraient donc être utiles dans le cadre d'une prédiction du temps de trajet entre une station et le lieu de l'incident."
   ]
  },
  {
   "cell_type": "markdown",
   "metadata": {},
   "source": [
    "Boxplot sur différentes variables qui peuvent nous intéresser pour trier le ds sur la base des min/max observés"
   ]
  },
  {
   "cell_type": "code",
   "execution_count": 16,
   "metadata": {},
   "outputs": [
    {
     "name": "stderr",
     "output_type": "stream",
     "text": [
      "findfont: Font family ['sans-serif'] not found. Falling back to DejaVu Sans.\n",
      "findfont: Font family ['sans-serif'] not found. Falling back to DejaVu Sans.\n"
     ]
    },
    {
     "data": {
      "image/png": "[encoded data removed]",
      "text/plain": [
       "<Figure size 864x576 with 1 Axes>"
      ]
     },
     "metadata": {
      "needs_background": "light"
     },
     "output_type": "display_data"
    }
   ],
   "source": [
    "#plt.subplots(figsize=(10, 10))\n",
    "# on drop ici les fliers qui rendent le graph presque illisble\n",
    "#ax = sns.boxplot(x = 'AttendanceTimeSeconds', data = df, color = 'green',  showfliers = False)\n",
    "fig, ax = plt.subplots(1, 1, figsize=(12,8))\n",
    "c = 'green'\n",
    "ax.boxplot(df.AttendanceTimeSeconds, notch=True, showfliers =False, vert=False,\n",
    "           patch_artist=True,\n",
    "            boxprops=dict(facecolor=c, color='black'),\n",
    "            capprops=dict(color=c),\n",
    "            whiskerprops=dict(color='black'),\n",
    "            flierprops=dict(color=c, markeredgecolor=c),\n",
    "            medianprops=dict(color=c))\n",
    "ax.set_yticks([])\n",
    "ax.set_yticklabels([])\n",
    "ax.set_xticks(np.arange(0, 701, 100))\n",
    "ax.set_xticklabels(np.arange(0, 701, 100), fontsize=20)\n",
    "ax.spines['left'].set_visible(False)\n",
    "ax.set_xlabel('Attendance Time (s)', fontsize=25)\n",
    "format_ax(ax)\n",
    "plt.savefig('attendance_box.png', dpi=300)"
   ]
  },
  {
   "cell_type": "code",
   "execution_count": 17,
   "metadata": {},
   "outputs": [
    {
     "data": {
      "text/html": [
       "<div>\n",
       "<style scoped>\n",
       "    .dataframe tbody tr th:only-of-type {\n",
       "        vertical-align: middle;\n",
       "    }\n",
       "\n",
       "    .dataframe tbody tr th {\n",
       "        vertical-align: top;\n",
       "    }\n",
       "\n",
       "    .dataframe thead th {\n",
       "        text-align: right;\n",
       "    }\n",
       "</style>\n",
       "<table border=\"1\" class=\"dataframe\">\n",
       "  <thead>\n",
       "    <tr style=\"text-align: right;\">\n",
       "      <th></th>\n",
       "      <th>AttendanceTimeSeconds</th>\n",
       "    </tr>\n",
       "    <tr>\n",
       "      <th>HourOfCall</th>\n",
       "      <th></th>\n",
       "    </tr>\n",
       "  </thead>\n",
       "  <tbody>\n",
       "    <tr>\n",
       "      <th>0</th>\n",
       "      <td>721.659295</td>\n",
       "    </tr>\n",
       "    <tr>\n",
       "      <th>1</th>\n",
       "      <td>664.559250</td>\n",
       "    </tr>\n",
       "    <tr>\n",
       "      <th>2</th>\n",
       "      <td>626.467605</td>\n",
       "    </tr>\n",
       "    <tr>\n",
       "      <th>3</th>\n",
       "      <td>623.984802</td>\n",
       "    </tr>\n",
       "    <tr>\n",
       "      <th>4</th>\n",
       "      <td>711.163870</td>\n",
       "    </tr>\n",
       "    <tr>\n",
       "      <th>5</th>\n",
       "      <td>623.892498</td>\n",
       "    </tr>\n",
       "    <tr>\n",
       "      <th>6</th>\n",
       "      <td>623.270745</td>\n",
       "    </tr>\n",
       "    <tr>\n",
       "      <th>7</th>\n",
       "      <td>442.511189</td>\n",
       "    </tr>\n",
       "    <tr>\n",
       "      <th>8</th>\n",
       "      <td>444.796078</td>\n",
       "    </tr>\n",
       "    <tr>\n",
       "      <th>9</th>\n",
       "      <td>459.395227</td>\n",
       "    </tr>\n",
       "    <tr>\n",
       "      <th>10</th>\n",
       "      <td>412.793388</td>\n",
       "    </tr>\n",
       "    <tr>\n",
       "      <th>11</th>\n",
       "      <td>541.291611</td>\n",
       "    </tr>\n",
       "    <tr>\n",
       "      <th>12</th>\n",
       "      <td>522.616966</td>\n",
       "    </tr>\n",
       "    <tr>\n",
       "      <th>13</th>\n",
       "      <td>574.303095</td>\n",
       "    </tr>\n",
       "    <tr>\n",
       "      <th>14</th>\n",
       "      <td>407.443959</td>\n",
       "    </tr>\n",
       "    <tr>\n",
       "      <th>15</th>\n",
       "      <td>479.421437</td>\n",
       "    </tr>\n",
       "    <tr>\n",
       "      <th>16</th>\n",
       "      <td>443.778981</td>\n",
       "    </tr>\n",
       "    <tr>\n",
       "      <th>17</th>\n",
       "      <td>374.842824</td>\n",
       "    </tr>\n",
       "    <tr>\n",
       "      <th>18</th>\n",
       "      <td>464.919337</td>\n",
       "    </tr>\n",
       "    <tr>\n",
       "      <th>19</th>\n",
       "      <td>348.483617</td>\n",
       "    </tr>\n",
       "    <tr>\n",
       "      <th>20</th>\n",
       "      <td>741.172981</td>\n",
       "    </tr>\n",
       "    <tr>\n",
       "      <th>21</th>\n",
       "      <td>511.842246</td>\n",
       "    </tr>\n",
       "    <tr>\n",
       "      <th>22</th>\n",
       "      <td>650.536142</td>\n",
       "    </tr>\n",
       "    <tr>\n",
       "      <th>23</th>\n",
       "      <td>675.667527</td>\n",
       "    </tr>\n",
       "  </tbody>\n",
       "</table>\n",
       "</div>"
      ],
      "text/plain": [
       "            AttendanceTimeSeconds\n",
       "HourOfCall                       \n",
       "0                      721.659295\n",
       "1                      664.559250\n",
       "2                      626.467605\n",
       "3                      623.984802\n",
       "4                      711.163870\n",
       "5                      623.892498\n",
       "6                      623.270745\n",
       "7                      442.511189\n",
       "8                      444.796078\n",
       "9                      459.395227\n",
       "10                     412.793388\n",
       "11                     541.291611\n",
       "12                     522.616966\n",
       "13                     574.303095\n",
       "14                     407.443959\n",
       "15                     479.421437\n",
       "16                     443.778981\n",
       "17                     374.842824\n",
       "18                     464.919337\n",
       "19                     348.483617\n",
       "20                     741.172981\n",
       "21                     511.842246\n",
       "22                     650.536142\n",
       "23                     675.667527"
      ]
     },
     "execution_count": 17,
     "metadata": {},
     "output_type": "execute_result"
    }
   ],
   "source": [
    "tmean_per_h = df.groupby('HourOfCall').agg({'AttendanceTimeSeconds':'mean'})\n",
    "tstd_per_h = df.groupby('HourOfCall').agg({'AttendanceTimeSeconds':'std'})\n",
    "tstd_per_h"
   ]
  },
  {
   "cell_type": "code",
   "execution_count": 19,
   "metadata": {},
   "outputs": [
    {
     "data": {
      "image/png": "[encoded data removed]",
      "text/plain": [
       "<Figure size 864x576 with 2 Axes>"
      ]
     },
     "metadata": {
      "needs_background": "light"
     },
     "output_type": "display_data"
    }
   ],
   "source": [
    "fig, ax = plt.subplots(1, 1, figsize = (12,8))\n",
    "#plt.grid(True)\n",
    "ax.plot( np.arange(0,24,1), tmean_per_h.AttendanceTimeSeconds, \"g-h\", linewidth=2)\n",
    "#ax.fill_between( np.arange(0,24,1), tmean_per_h.AttendanceTimeSeconds - tstd_per_h.AttendanceTimeSeconds, \n",
    "#                 tmean_per_h.AttendanceTimeSeconds + tstd_per_h.AttendanceTimeSeconds, alpha = 0.2, color = 'green')\n",
    "ax.set_xticks(np.arange(0,24,2))\n",
    "\n",
    "ax.set_xlabel('Hour',fontsize = 20)\n",
    "ax.set_ylabel(\"Attendance Time (s)\", fontsize = 25, color='green')\n",
    "ax.tick_params(axis='y', labelcolor='green')\n",
    "\n",
    "ax2 = ax.twinx()  # instantiate a second axes that shares the same x-axis\n",
    "color = 'blue'\n",
    "ax2.set_ylabel('STD (s)', color='blue', fontsize=25)  # we already handled the x-label with ax1\n",
    "ax2.plot(np.arange(0,24,1), tstd_per_h.AttendanceTimeSeconds, \"b-h\")\n",
    "ax2.tick_params(axis='y', labelcolor=color)\n",
    "\n",
    "def format_ax(axs):\n",
    "    from matplotlib import rc\n",
    "    rc('font',**{'family':'sans-serif','sans-serif':['Helvetica']})\n",
    "    axs.tick_params(axis='both', which='major', labelsize=20)\n",
    "    #axs.spines['right'].set_visible(False)\n",
    "    axs.spines['top'].set_visible(False)\n",
    "\n",
    "format_ax(ax)\n",
    "format_ax(ax2)\n",
    "plt.savefig('attendance_hour_line.png', dpi=300)"
   ]
  },
  {
   "cell_type": "code",
   "execution_count": 20,
   "metadata": {},
   "outputs": [
    {
     "name": "stdout",
     "output_type": "stream",
     "text": [
      "(1.0, 0.0)\n",
      "La STD est fortement positivement corrélée à la moyenne, et elle est très importante, ce qui laisse à penser qu'il y a une très grande variabilité dans les interventions\n"
     ]
    }
   ],
   "source": [
    "print(pearsonr(tmean_per_h.AttendanceTimeSeconds, tmean_per_h.AttendanceTimeSeconds))\n",
    "print(\"La STD est fortement positivement corrélée à la moyenne, et elle est très importante, ce qui laisse à penser qu'il y a une très grande variabilité dans les interventions\")"
   ]
  },
  {
   "cell_type": "markdown",
   "metadata": {},
   "source": [
    "Il est bon également d'étudier l'évolution du temps moyen d'intervetion par année pour voir si les fermetures de stations en 2014 puis 2016 ont eu un impact marqué ou non sur cette variable"
   ]
  },
  {
   "cell_type": "code",
   "execution_count": 21,
   "metadata": {},
   "outputs": [],
   "source": [
    "tmean_per_year = df.groupby('CalYear').agg({'AttendanceTimeSeconds':'mean'})\n",
    "tstd_per_year = df.groupby('CalYear').agg({'AttendanceTimeSeconds':'std'})"
   ]
  },
  {
   "cell_type": "code",
   "execution_count": 22,
   "metadata": {},
   "outputs": [
    {
     "data": {
      "text/plain": [
       "2009    167768\n",
       "2010    166078\n",
       "2011    156529\n",
       "2016    154562\n",
       "2019    152929\n",
       "2018    151749\n",
       "2020    149149\n",
       "2012    148068\n",
       "2017    146343\n",
       "2014    140183\n",
       "2013    138804\n",
       "2015    113699\n",
       "2021     11142\n",
       "Name: CalYear, dtype: int64"
      ]
     },
     "execution_count": 22,
     "metadata": {},
     "output_type": "execute_result"
    }
   ],
   "source": [
    "df.CalYear.value_counts()"
   ]
  },
  {
   "cell_type": "code",
   "execution_count": 24,
   "metadata": {},
   "outputs": [
    {
     "data": {
      "image/png": "[encoded data removed]",
      "text/plain": [
       "<Figure size 864x576 with 2 Axes>"
      ]
     },
     "metadata": {
      "needs_background": "light"
     },
     "output_type": "display_data"
    }
   ],
   "source": [
    "fig, ax = plt.subplots(1, 1, figsize = (12,8))\n",
    "#plt.grid(True)\n",
    "ax.plot( np.arange(2009,2022,1), tmean_per_year.AttendanceTimeSeconds, \"g-h\", linewidth=2)\n",
    "#ax.fill_between( np.arange(0,24,1), tmean_per_h.AttendanceTimeSeconds - tstd_per_h.AttendanceTimeSeconds, \n",
    "#                 tmean_per_h.AttendanceTimeSeconds + tstd_per_h.AttendanceTimeSeconds, alpha = 0.2, color = 'green')\n",
    "ax.set_xticks(np.arange(2009,2022,1))\n",
    "ax.set_xlabel('Year',fontsize = 20)\n",
    "ax.set_ylabel(\"Attendance Time (s)\", fontsize = 20, color='green')\n",
    "ax.tick_params(axis='y', labelcolor='green')\n",
    "\n",
    "ax2 = ax.twinx()  # instantiate a second axes that shares the same x-axis\n",
    "color = 'blue'\n",
    "ax2.set_ylabel('STD (s)', color='blue', fontsize=20)  # we already handled the x-label with ax1\n",
    "ax2.plot(np.arange(2009,2022,1), tstd_per_year.AttendanceTimeSeconds, \"b-h\")\n",
    "ax2.tick_params(axis='y', labelcolor=color)\n",
    "\n",
    "def format_ax(axs):\n",
    "    from matplotlib import rc\n",
    "    rc('font',**{'family':'sans-serif','sans-serif':['Helvetica']})\n",
    "    axs.tick_params(axis='both', which='major', labelsize=15)\n",
    "    #axs.spines['right'].set_visible(False)\n",
    "    axs.spines['top'].set_visible(False)\n",
    "\n",
    "format_ax(ax)\n",
    "format_ax(ax2)\n",
    "plt.savefig('attendance_year_line.png', dpi=300)"
   ]
  },
  {
   "cell_type": "code",
   "execution_count": 25,
   "metadata": {},
   "outputs": [
    {
     "name": "stdout",
     "output_type": "stream",
     "text": [
      "(0.9906283490503934, 7.31606503398708e-11)\n",
      "La STD est très fortement et positivement corrélée à la moyenne, mais toutes deux chutent fortement en 2017 et deviennent stables : les données précédent 2016 ne seraient donc pas représentatives des délai d'intervention de nos jours\n"
     ]
    }
   ],
   "source": [
    "print(pearsonr(tmean_per_year.AttendanceTimeSeconds, tstd_per_year.AttendanceTimeSeconds))\n",
    "print(\"La STD est très fortement et positivement corrélée à la moyenne, mais toutes deux chutent fortement en 2017 et deviennent stables : les données précédent 2016 ne seraient donc pas représentatives des délai d'intervention de nos jours\")"
   ]
  },
  {
   "cell_type": "markdown",
   "metadata": {},
   "source": [
    "Temps moyen d'intervention en fonction de la distance de la station avec le centre de Londres, pour prendre en compte les différentes densités urbaines, mais également un maillage plus large des zones"
   ]
  },
  {
   "cell_type": "code",
   "execution_count": 26,
   "metadata": {},
   "outputs": [
    {
     "data": {
      "text/html": [
       "<div>\n",
       "<style scoped>\n",
       "    .dataframe tbody tr th:only-of-type {\n",
       "        vertical-align: middle;\n",
       "    }\n",
       "\n",
       "    .dataframe tbody tr th {\n",
       "        vertical-align: top;\n",
       "    }\n",
       "\n",
       "    .dataframe thead th {\n",
       "        text-align: right;\n",
       "    }\n",
       "</style>\n",
       "<table border=\"1\" class=\"dataframe\">\n",
       "  <thead>\n",
       "    <tr style=\"text-align: right;\">\n",
       "      <th></th>\n",
       "      <th>AttendanceTimeSeconds</th>\n",
       "    </tr>\n",
       "    <tr>\n",
       "      <th>dist_stacen_classe</th>\n",
       "      <th></th>\n",
       "    </tr>\n",
       "  </thead>\n",
       "  <tbody>\n",
       "    <tr>\n",
       "      <th>1.0</th>\n",
       "      <td>349.616944</td>\n",
       "    </tr>\n",
       "    <tr>\n",
       "      <th>2.0</th>\n",
       "      <td>355.667972</td>\n",
       "    </tr>\n",
       "    <tr>\n",
       "      <th>3.0</th>\n",
       "      <td>362.109460</td>\n",
       "    </tr>\n",
       "    <tr>\n",
       "      <th>4.0</th>\n",
       "      <td>412.251012</td>\n",
       "    </tr>\n",
       "    <tr>\n",
       "      <th>5.0</th>\n",
       "      <td>431.133534</td>\n",
       "    </tr>\n",
       "    <tr>\n",
       "      <th>6.0</th>\n",
       "      <td>496.177245</td>\n",
       "    </tr>\n",
       "  </tbody>\n",
       "</table>\n",
       "</div>"
      ],
      "text/plain": [
       "                    AttendanceTimeSeconds\n",
       "dist_stacen_classe                       \n",
       "1.0                            349.616944\n",
       "2.0                            355.667972\n",
       "3.0                            362.109460\n",
       "4.0                            412.251012\n",
       "5.0                            431.133534\n",
       "6.0                            496.177245"
      ]
     },
     "execution_count": 26,
     "metadata": {},
     "output_type": "execute_result"
    }
   ],
   "source": [
    "dist_resp = df.groupby('dist_stacen_classe' ).agg({'AttendanceTimeSeconds':'mean'})\n",
    "dist_resp"
   ]
  },
  {
   "cell_type": "code",
   "execution_count": 27,
   "metadata": {},
   "outputs": [
    {
     "name": "stdout",
     "output_type": "stream",
     "text": [
      "36.81\n",
      "7154.937\n",
      "11462.041\n",
      "15742.87\n",
      "21111.379\n",
      "28217.718\n"
     ]
    },
    {
     "data": {
      "image/png": "[encoded data removed]",
      "text/plain": [
       "<Figure size 864x864 with 1 Axes>"
      ]
     },
     "metadata": {
      "needs_background": "light"
     },
     "output_type": "display_data"
    }
   ],
   "source": [
    "labels = []\n",
    "for i in df.dist_stacen_bin.sort_values().unique():\n",
    "    j = str(i).split(',')\n",
    "    print(j[0].split('(')[1])\n",
    "    labels.append('['+str(np.round(float(j[0].split('(')[1])/1000, 2))+';\\n'+\\\n",
    "                  str(np.round(float(j[1].split(']')[0].split()[0])/1000, 2))+']')\n",
    "        \n",
    "fig, ax = plt.subplots(1, 1, figsize = (12,12))\n",
    "ax.bar(dist_resp.index, dist_resp.AttendanceTimeSeconds)\n",
    "ax.set_xticks(dist_resp.index)\n",
    "ax.set_xticklabels(labels)\n",
    "ax.set_xlabel('Distance from London center (Km)',fontsize = 20)\n",
    "ax.set_ylabel(\"Attendance Time (s)\", fontsize = 20)\n",
    "def format_ax(axs):\n",
    "    from matplotlib import rc\n",
    "    rc('font',**{'family':'sans-serif','sans-serif':['Helvetica']})\n",
    "    axs.tick_params(axis='both', which='major', labelsize=15)\n",
    "    axs.spines['right'].set_visible(False)\n",
    "    axs.spines['top'].set_visible(False)\n",
    "format_ax(ax)\n",
    "plt.savefig('attendance_center.png', dpi=300)"
   ]
  }
 ],
 "metadata": {
  "kernelspec": {
   "display_name": "Python 3",
   "language": "python",
   "name": "python3"
  },
  "language_info": {
   "codemirror_mode": {
    "name": "ipython",
    "version": 3
   },
   "file_extension": ".py",
   "mimetype": "text/x-python",
   "name": "python",
   "nbconvert_exporter": "python",
   "pygments_lexer": "ipython3",
   "version": "3.7.10"
  }
 },
 "nbformat": 4,
 "nbformat_minor": 4
}
